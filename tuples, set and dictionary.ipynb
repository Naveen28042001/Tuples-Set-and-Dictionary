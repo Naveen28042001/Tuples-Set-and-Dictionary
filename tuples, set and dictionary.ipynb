{
 "cells": [
  {
   "cell_type": "code",
   "execution_count": null,
   "id": "a4f8542a-6a24-4609-837a-b747fd3c9f4d",
   "metadata": {},
   "outputs": [],
   "source": [
    "Q1. What are the characteristics of the tuples? Is tuple immutable?\n",
    "\n",
    "Tuples are used to store data.\n",
    "Tuples are represented by paranthesis(round brackets())\n",
    "Tuples are ordered, indexed.\n",
    "Tuples are immutable ie.,can't change the items in the tuples."
   ]
  },
  {
   "cell_type": "code",
   "execution_count": null,
   "id": "ad5918df-28b7-4250-b21f-b8d61de746d3",
   "metadata": {},
   "outputs": [],
   "source": [
    "Q2. What are the two tuple methods in python? Give an example of each method. Give a reason why\n",
    "tuples have only two in-built methods as compared to Lists.\n",
    "\n",
    "\n",
    "\"count and index\" are the two tuple methods in python.\n",
    "count-returns the number of times the specified value is present in the tuple.\n",
    "index-\tSearches the tuple for a specified value and returns the position of where it was found"
   ]
  },
  {
   "cell_type": "code",
   "execution_count": 7,
   "id": "1cf214c4-c456-4475-b747-29dce2ef3c1b",
   "metadata": {},
   "outputs": [],
   "source": [
    "a = (1,2,3,4,5,5,4,6,7,5,8,5,2,2)"
   ]
  },
  {
   "cell_type": "code",
   "execution_count": 8,
   "id": "079e156e-c2e1-4ff1-85d3-5541d7f5b7e9",
   "metadata": {},
   "outputs": [
    {
     "data": {
      "text/plain": [
       "4"
      ]
     },
     "execution_count": 8,
     "metadata": {},
     "output_type": "execute_result"
    }
   ],
   "source": [
    " a.count(5)"
   ]
  },
  {
   "cell_type": "code",
   "execution_count": 10,
   "id": "1824c2e2-b95e-4736-a5e8-528a408b778b",
   "metadata": {},
   "outputs": [
    {
     "data": {
      "text/plain": [
       "3"
      ]
     },
     "execution_count": 10,
     "metadata": {},
     "output_type": "execute_result"
    }
   ],
   "source": [
    "a.count(2)"
   ]
  },
  {
   "cell_type": "code",
   "execution_count": 11,
   "id": "620acd0d-ed95-4f0d-9f2c-7a64c8dff64f",
   "metadata": {},
   "outputs": [
    {
     "data": {
      "text/plain": [
       "1"
      ]
     },
     "execution_count": 11,
     "metadata": {},
     "output_type": "execute_result"
    }
   ],
   "source": [
    "a.count(7)"
   ]
  },
  {
   "cell_type": "code",
   "execution_count": 9,
   "id": "989964ba-416a-4cef-b65d-bb2fae1fbe2c",
   "metadata": {},
   "outputs": [
    {
     "data": {
      "text/plain": [
       "3"
      ]
     },
     "execution_count": 9,
     "metadata": {},
     "output_type": "execute_result"
    }
   ],
   "source": [
    "a.index(4)"
   ]
  },
  {
   "cell_type": "code",
   "execution_count": 13,
   "id": "1410332b-5434-470a-ae36-6268bba330b8",
   "metadata": {},
   "outputs": [
    {
     "data": {
      "text/plain": [
       "10"
      ]
     },
     "execution_count": 13,
     "metadata": {},
     "output_type": "execute_result"
    }
   ],
   "source": [
    "a.index(8)"
   ]
  },
  {
   "cell_type": "code",
   "execution_count": 14,
   "id": "17f4b3b4-dc69-4e21-ba03-f2f30b5e07f5",
   "metadata": {},
   "outputs": [
    {
     "data": {
      "text/plain": [
       "0"
      ]
     },
     "execution_count": 14,
     "metadata": {},
     "output_type": "execute_result"
    }
   ],
   "source": [
    "a.index(1)"
   ]
  },
  {
   "cell_type": "code",
   "execution_count": null,
   "id": "fb488ce3-8179-45bd-a757-ea4c920daca1",
   "metadata": {},
   "outputs": [],
   "source": [
    "Tuples have only two in-built methods as compared to Lists because tuples are basically immutable.This is the main reason behind this.\n"
   ]
  },
  {
   "cell_type": "code",
   "execution_count": null,
   "id": "9aca1655-dd59-4fec-9664-603c8757c07c",
   "metadata": {},
   "outputs": [],
   "source": [
    "Q3. Which collection datatypes in python do not allow duplicate items? Write a code using a set to remove\n",
    "duplicates from the given list.\n",
    "\n",
    "\n",
    "\"Set and dictionary \"datatypes in python do not allow duplicate items because sets are unordered."
   ]
  },
  {
   "cell_type": "code",
   "execution_count": 2,
   "id": "b6dbb8b6-64ee-492e-ab32-61d76e45adf6",
   "metadata": {},
   "outputs": [],
   "source": [
    "List = [1, 1, 1, 2, 1, 3, 1, 4, 2, 1, 2, 2, 2, 3, 2, 4, 3, 1, 3, 2, 3, 3, 3, 4, 4, 1, 4, 2, 4, 3, 4, 4]"
   ]
  },
  {
   "cell_type": "code",
   "execution_count": 3,
   "id": "fc881e86-ae45-4f63-90bd-700b77f5bb71",
   "metadata": {},
   "outputs": [
    {
     "data": {
      "text/plain": [
       "{1, 2, 3, 4}"
      ]
     },
     "execution_count": 3,
     "metadata": {},
     "output_type": "execute_result"
    }
   ],
   "source": [
    "set(List)"
   ]
  },
  {
   "cell_type": "code",
   "execution_count": null,
   "id": "093affc7-878a-4883-ba5a-09da792f778e",
   "metadata": {},
   "outputs": [],
   "source": [
    "Q4. Explain the difference between the union() and update() methods for a set. Give an example of\n",
    "each method.\n",
    "\n",
    "\n",
    "union() returns a new set that contains all the elements from both sets.\n",
    "update() modifies one of the sets to include all the elements from both sets."
   ]
  },
  {
   "cell_type": "code",
   "execution_count": 52,
   "id": "baf9ea53-660e-40d4-9bf5-9b558cff46c8",
   "metadata": {},
   "outputs": [],
   "source": [
    "s1 = {1,2,3,4,5,\"Ram\",\"Kumar\",\"Raja\",\"Sara\"}\n",
    "s2 = {(1,2,3,4,5)}"
   ]
  },
  {
   "cell_type": "code",
   "execution_count": 53,
   "id": "a0b18d36-6482-4e33-aa44-bc55f9b0ae96",
   "metadata": {},
   "outputs": [],
   "source": [
    "s1.update(s2)"
   ]
  },
  {
   "cell_type": "code",
   "execution_count": 54,
   "id": "43545ed5-224f-4c56-b609-df7549bebb06",
   "metadata": {},
   "outputs": [
    {
     "data": {
      "text/plain": [
       "{(1, 2, 3, 4, 5), 1, 2, 3, 4, 5, 'Kumar', 'Raja', 'Ram', 'Sara'}"
      ]
     },
     "execution_count": 54,
     "metadata": {},
     "output_type": "execute_result"
    }
   ],
   "source": [
    "s1"
   ]
  },
  {
   "cell_type": "code",
   "execution_count": 7,
   "id": "0837b66d-d318-49bb-a661-44e7f867acbb",
   "metadata": {},
   "outputs": [],
   "source": [
    "s1 = {1,2,3,4,5,\"Ram\",\"Kumar\",\"Raja\",\"Sara\"}\n",
    "s2 = {(1,2,3,4,5)}"
   ]
  },
  {
   "cell_type": "code",
   "execution_count": 8,
   "id": "9a3c2d88-e495-4f07-bd08-69daa45ca2e7",
   "metadata": {},
   "outputs": [
    {
     "data": {
      "text/plain": [
       "{(1, 2, 3, 4, 5), 1, 2, 3, 4, 5, 'Kumar', 'Raja', 'Ram', 'Sara'}"
      ]
     },
     "execution_count": 8,
     "metadata": {},
     "output_type": "execute_result"
    }
   ],
   "source": [
    "s1.union(s2)"
   ]
  },
  {
   "cell_type": "code",
   "execution_count": null,
   "id": "1c8b1d8d-b8fd-4b88-9ae1-85e14aaaa3d8",
   "metadata": {},
   "outputs": [],
   "source": [
    "Q5. What is a dictionary? Give an example. Also, state whether a dictionary is ordered or unordered.\n",
    "\n",
    "dictionary- stores data in key-value pairs.\n",
    "dictionary is represented by curly brackets {}.\n",
    "dictionary is ordered, unindexed and mutable."
   ]
  },
  {
   "cell_type": "code",
   "execution_count": 53,
   "id": "1c29fef1-eaa0-4b76-b8b2-ea520e610094",
   "metadata": {},
   "outputs": [],
   "source": [
    "dict = {\n",
    "    \"name\":\"Ram\",\n",
    "    \"age\":25,\n",
    "    \"mail_id\":\"ram@gmail.com\",\n",
    "    \"phone_number\":6354578932\n",
    "}"
   ]
  },
  {
   "cell_type": "code",
   "execution_count": 54,
   "id": "a7ed535e-e70a-44c1-b574-e3816e410fc4",
   "metadata": {},
   "outputs": [
    {
     "data": {
      "text/plain": [
       "{'name': 'Ram',\n",
       " 'age': 25,\n",
       " 'mail_id': 'ram@gmail.com',\n",
       " 'phone_number': 6354578932}"
      ]
     },
     "execution_count": 54,
     "metadata": {},
     "output_type": "execute_result"
    }
   ],
   "source": [
    "dict"
   ]
  },
  {
   "cell_type": "code",
   "execution_count": 55,
   "id": "bccfb3c8-4693-415c-8643-ae1d89a5f9a5",
   "metadata": {},
   "outputs": [
    {
     "data": {
      "text/plain": [
       "'Ram'"
      ]
     },
     "execution_count": 55,
     "metadata": {},
     "output_type": "execute_result"
    }
   ],
   "source": [
    "dict['name']"
   ]
  },
  {
   "cell_type": "code",
   "execution_count": 56,
   "id": "36c82e4c-f2a9-4242-ad43-173b58f8ba32",
   "metadata": {},
   "outputs": [
    {
     "data": {
      "text/plain": [
       "6354578932"
      ]
     },
     "execution_count": 56,
     "metadata": {},
     "output_type": "execute_result"
    }
   ],
   "source": [
    "dict['phone_number']"
   ]
  },
  {
   "cell_type": "code",
   "execution_count": 57,
   "id": "4b9c2a88-70bf-46e0-bf11-49f5f065d952",
   "metadata": {},
   "outputs": [],
   "source": [
    "dict['name'] = \"sam\""
   ]
  },
  {
   "cell_type": "code",
   "execution_count": 14,
   "id": "5889b5fe-544e-4791-8131-2564a21b4dc4",
   "metadata": {},
   "outputs": [
    {
     "data": {
      "text/plain": [
       "{'name': 'sam',\n",
       " 'age': 25,\n",
       " 'mail_id': 'ram@gmail.com',\n",
       " 'phone_number': 6354578932}"
      ]
     },
     "execution_count": 14,
     "metadata": {},
     "output_type": "execute_result"
    }
   ],
   "source": [
    "dict"
   ]
  },
  {
   "cell_type": "code",
   "execution_count": 58,
   "id": "983cfed4-b06b-4b6f-86b5-037f80893130",
   "metadata": {},
   "outputs": [],
   "source": [
    "dict['student_id'] = 123"
   ]
  },
  {
   "cell_type": "code",
   "execution_count": 59,
   "id": "dc4bd7f5-86da-41dd-be27-b230e8a0277a",
   "metadata": {},
   "outputs": [
    {
     "data": {
      "text/plain": [
       "{'name': 'sam',\n",
       " 'age': 25,\n",
       " 'mail_id': 'ram@gmail.com',\n",
       " 'phone_number': 6354578932,\n",
       " 'student_id': 123}"
      ]
     },
     "execution_count": 59,
     "metadata": {},
     "output_type": "execute_result"
    }
   ],
   "source": [
    "dict"
   ]
  },
  {
   "cell_type": "code",
   "execution_count": null,
   "id": "f669635e-755b-4d3f-9635-8dafcbd4effb",
   "metadata": {},
   "outputs": [],
   "source": [
    "dictionary is ordered."
   ]
  },
  {
   "cell_type": "code",
   "execution_count": null,
   "id": "949c4f34-0076-4d41-9136-7637ced412db",
   "metadata": {},
   "outputs": [],
   "source": [
    "Q6. Can we create a nested dictionary? If so, please give an example by creating a simple one-level\n",
    "nested dictionary.\n",
    "\n",
    "Yes,we can create a nested dictionary."
   ]
  },
  {
   "cell_type": "code",
   "execution_count": 18,
   "id": "d5c79676-eee1-4369-a25f-5cc5d45b35ff",
   "metadata": {},
   "outputs": [],
   "source": [
    "dict = {\n",
    "    \"dict1\" :\n",
    "       {\"name\":\"Ram\",\n",
    "        \"age\":25,\n",
    "        \"mail_id\":\"ram@gmail.com\",\n",
    "        \"phone_number\":6354578932\n",
    "    },\n",
    "     \"dict2\" :\n",
    "        {\"name\":\"Sam\",\n",
    "        \"age\":20,\n",
    "        \"mail_id\":\"sam@gmail.com\",\n",
    "        \"phone_number\":9023874534\n",
    "    }\n",
    "}"
   ]
  },
  {
   "cell_type": "code",
   "execution_count": 19,
   "id": "eabedeb1-a942-47c6-9bb3-6264a8453e13",
   "metadata": {},
   "outputs": [
    {
     "data": {
      "text/plain": [
       "{'dict1': {'name': 'Ram',\n",
       "  'age': 25,\n",
       "  'mail_id': 'ram@gmail.com',\n",
       "  'phone_number': 6354578932},\n",
       " 'dict2': {'name': 'Sam',\n",
       "  'age': 20,\n",
       "  'mail_id': 'sam@gmail.com',\n",
       "  'phone_number': 9023874534}}"
      ]
     },
     "execution_count": 19,
     "metadata": {},
     "output_type": "execute_result"
    }
   ],
   "source": [
    "dict"
   ]
  },
  {
   "cell_type": "code",
   "execution_count": 21,
   "id": "5c2b99a7-595f-422f-bca7-af1efa7ae451",
   "metadata": {},
   "outputs": [
    {
     "data": {
      "text/plain": [
       "{'name': 'Ram',\n",
       " 'age': 25,\n",
       " 'mail_id': 'ram@gmail.com',\n",
       " 'phone_number': 6354578932}"
      ]
     },
     "execution_count": 21,
     "metadata": {},
     "output_type": "execute_result"
    }
   ],
   "source": [
    "dict['dict1']"
   ]
  },
  {
   "cell_type": "code",
   "execution_count": 22,
   "id": "44305b2e-1eba-4993-92bd-f588b3879d8a",
   "metadata": {},
   "outputs": [
    {
     "data": {
      "text/plain": [
       "{'name': 'Sam',\n",
       " 'age': 20,\n",
       " 'mail_id': 'sam@gmail.com',\n",
       " 'phone_number': 9023874534}"
      ]
     },
     "execution_count": 22,
     "metadata": {},
     "output_type": "execute_result"
    }
   ],
   "source": [
    "dict['dict2']"
   ]
  },
  {
   "cell_type": "code",
   "execution_count": 23,
   "id": "57008009-9134-4978-b9f2-bdcdb27eef90",
   "metadata": {},
   "outputs": [
    {
     "data": {
      "text/plain": [
       "'ram@gmail.com'"
      ]
     },
     "execution_count": 23,
     "metadata": {},
     "output_type": "execute_result"
    }
   ],
   "source": [
    "dict['dict1']['mail_id']"
   ]
  },
  {
   "cell_type": "code",
   "execution_count": 24,
   "id": "36b0b629-2837-4dc7-a272-3e2f2667dce0",
   "metadata": {},
   "outputs": [
    {
     "data": {
      "text/plain": [
       "9023874534"
      ]
     },
     "execution_count": 24,
     "metadata": {},
     "output_type": "execute_result"
    }
   ],
   "source": [
    "dict['dict2']['phone_number']"
   ]
  },
  {
   "cell_type": "code",
   "execution_count": null,
   "id": "44c792fd-11ed-4882-846d-9a856f358360",
   "metadata": {},
   "outputs": [],
   "source": [
    "Q7. Using setdefault() method, create key named topics in the given dictionary and also add the value of\n",
    "the key as this list ['Python', 'Machine Learning’, 'Deep Learning']"
   ]
  },
  {
   "cell_type": "code",
   "execution_count": 45,
   "id": "d007dcf7-a6f9-4728-ad34-d02fd8d9fada",
   "metadata": {},
   "outputs": [],
   "source": [
    "dict1 = {'language' : 'Python', 'course': 'Data Science Masters'}"
   ]
  },
  {
   "cell_type": "code",
   "execution_count": 46,
   "id": "6f4783c0-be16-45d1-802d-abd9f0d027d5",
   "metadata": {},
   "outputs": [
    {
     "data": {
      "text/plain": [
       "['Python', 'machine Learning', 'Deep Learning']"
      ]
     },
     "execution_count": 46,
     "metadata": {},
     "output_type": "execute_result"
    }
   ],
   "source": [
    "dict1.setdefault(\"topics\",['Python','machine Learning', 'Deep Learning'])"
   ]
  },
  {
   "cell_type": "code",
   "execution_count": 47,
   "id": "0b919c26-55b1-400a-9c81-a93d2a4ec242",
   "metadata": {},
   "outputs": [
    {
     "data": {
      "text/plain": [
       "{'language': 'Python',\n",
       " 'course': 'Data Science Masters',\n",
       " 'topics': ['Python', 'machine Learning', 'Deep Learning']}"
      ]
     },
     "execution_count": 47,
     "metadata": {},
     "output_type": "execute_result"
    }
   ],
   "source": [
    "dict1"
   ]
  },
  {
   "cell_type": "code",
   "execution_count": null,
   "id": "178365b3-4ccc-4b3e-9d3e-791293fef030",
   "metadata": {},
   "outputs": [],
   "source": [
    "Q8. What are the three view objects in dictionaries? Use the three in-built methods in python to display\n",
    "these three view objects for the given dictionary.\n",
    "\n",
    "keys,values and items are the three view objects in dictionaries."
   ]
  },
  {
   "cell_type": "code",
   "execution_count": null,
   "id": "6768e7d3-c971-4560-8b55-aad5934cb698",
   "metadata": {},
   "outputs": [],
   "source": [
    "dict1 = {'Sport': 'Cricket' , 'Teams': ['India', 'Australia', 'England', 'South Africa', 'Sri Lanka', 'New Zealand']}"
   ]
  },
  {
   "cell_type": "code",
   "execution_count": 48,
   "id": "c2ea488e-db54-4b6b-8631-6504870bec18",
   "metadata": {},
   "outputs": [
    {
     "data": {
      "text/plain": [
       "dict_keys(['language', 'course', 'topics'])"
      ]
     },
     "execution_count": 48,
     "metadata": {},
     "output_type": "execute_result"
    }
   ],
   "source": [
    "dict1.keys()"
   ]
  },
  {
   "cell_type": "code",
   "execution_count": 49,
   "id": "4c034605-024a-4fa4-91f9-70c9417726d0",
   "metadata": {},
   "outputs": [
    {
     "data": {
      "text/plain": [
       "dict_values(['Python', 'Data Science Masters', ['Python', 'machine Learning', 'Deep Learning']])"
      ]
     },
     "execution_count": 49,
     "metadata": {},
     "output_type": "execute_result"
    }
   ],
   "source": [
    "dict1.values()"
   ]
  },
  {
   "cell_type": "code",
   "execution_count": 50,
   "id": "543c6872-5c3b-4e07-844e-b2f4c9554d03",
   "metadata": {},
   "outputs": [
    {
     "data": {
      "text/plain": [
       "dict_items([('language', 'Python'), ('course', 'Data Science Masters'), ('topics', ['Python', 'machine Learning', 'Deep Learning'])])"
      ]
     },
     "execution_count": 50,
     "metadata": {},
     "output_type": "execute_result"
    }
   ],
   "source": [
    "dict1.items()"
   ]
  },
  {
   "cell_type": "code",
   "execution_count": 60,
   "id": "2badab43-b920-46d9-9394-55ab3e9f7ae8",
   "metadata": {},
   "outputs": [
    {
     "data": {
      "text/plain": [
       "3"
      ]
     },
     "execution_count": 60,
     "metadata": {},
     "output_type": "execute_result"
    }
   ],
   "source": [
    "len(dict1.keys())"
   ]
  },
  {
   "cell_type": "code",
   "execution_count": 62,
   "id": "823201d3-e15f-47d8-9aa1-a655dfc9a927",
   "metadata": {},
   "outputs": [
    {
     "data": {
      "text/plain": [
       "3"
      ]
     },
     "execution_count": 62,
     "metadata": {},
     "output_type": "execute_result"
    }
   ],
   "source": [
    "len(dict1.values())"
   ]
  },
  {
   "cell_type": "code",
   "execution_count": 63,
   "id": "6f528b65-f264-4751-b8c5-74884db2c3f5",
   "metadata": {},
   "outputs": [
    {
     "data": {
      "text/plain": [
       "3"
      ]
     },
     "execution_count": 63,
     "metadata": {},
     "output_type": "execute_result"
    }
   ],
   "source": [
    "len(dict1.items())"
   ]
  },
  {
   "cell_type": "code",
   "execution_count": 64,
   "id": "5b2c3d6e-702b-475b-9a49-829471bd0f90",
   "metadata": {},
   "outputs": [
    {
     "data": {
      "text/plain": [
       "'topics'"
      ]
     },
     "execution_count": 64,
     "metadata": {},
     "output_type": "execute_result"
    }
   ],
   "source": [
    "max(dict1.keys())"
   ]
  },
  {
   "cell_type": "code",
   "execution_count": 66,
   "id": "42239c75-52e2-41e9-bc05-5f409a6a6b84",
   "metadata": {},
   "outputs": [
    {
     "data": {
      "text/plain": [
       "('topics', ['Python', 'machine Learning', 'Deep Learning'])"
      ]
     },
     "execution_count": 66,
     "metadata": {},
     "output_type": "execute_result"
    }
   ],
   "source": [
    "max(dict1.items())"
   ]
  },
  {
   "cell_type": "code",
   "execution_count": 67,
   "id": "aba0845d-2b6e-4af9-afc5-37430df66619",
   "metadata": {},
   "outputs": [
    {
     "data": {
      "text/plain": [
       "['language', 'course', 'topics']"
      ]
     },
     "execution_count": 67,
     "metadata": {},
     "output_type": "execute_result"
    }
   ],
   "source": [
    "list(dict1.keys())"
   ]
  },
  {
   "cell_type": "code",
   "execution_count": 69,
   "id": "c3acddc0-1795-4ae6-985f-e13bca254e41",
   "metadata": {},
   "outputs": [
    {
     "data": {
      "text/plain": [
       "['Python',\n",
       " 'Data Science Masters',\n",
       " ['Python', 'machine Learning', 'Deep Learning']]"
      ]
     },
     "execution_count": 69,
     "metadata": {},
     "output_type": "execute_result"
    }
   ],
   "source": [
    "list(dict1.values())"
   ]
  },
  {
   "cell_type": "code",
   "execution_count": 70,
   "id": "5f22b854-b930-42df-84d6-aa8ec7a6210f",
   "metadata": {},
   "outputs": [
    {
     "data": {
      "text/plain": [
       "[('language', 'Python'),\n",
       " ('course', 'Data Science Masters'),\n",
       " ('topics', ['Python', 'machine Learning', 'Deep Learning'])]"
      ]
     },
     "execution_count": 70,
     "metadata": {},
     "output_type": "execute_result"
    }
   ],
   "source": [
    "list(dict1.items())"
   ]
  },
  {
   "cell_type": "code",
   "execution_count": 71,
   "id": "d77f0f92-5c08-462b-99c2-628b73ab98fb",
   "metadata": {},
   "outputs": [
    {
     "data": {
      "text/plain": [
       "'course'"
      ]
     },
     "execution_count": 71,
     "metadata": {},
     "output_type": "execute_result"
    }
   ],
   "source": [
    "min(dict1.keys())"
   ]
  },
  {
   "cell_type": "code",
   "execution_count": 73,
   "id": "802cf281-87c5-4601-bd8c-92afa9ce6644",
   "metadata": {},
   "outputs": [
    {
     "data": {
      "text/plain": [
       "('course', 'Data Science Masters')"
      ]
     },
     "execution_count": 73,
     "metadata": {},
     "output_type": "execute_result"
    }
   ],
   "source": [
    "min(dict1.items())"
   ]
  },
  {
   "cell_type": "code",
   "execution_count": 78,
   "id": "de7f7adc-6406-4d24-89c2-6e511b4c8939",
   "metadata": {},
   "outputs": [
    {
     "data": {
      "text/plain": [
       "139867781635744"
      ]
     },
     "execution_count": 78,
     "metadata": {},
     "output_type": "execute_result"
    }
   ],
   "source": [
    "id(dict1.keys())"
   ]
  },
  {
   "cell_type": "code",
   "execution_count": 79,
   "id": "c9c66fa3-2d2d-4a1c-a451-85b3a97351ba",
   "metadata": {},
   "outputs": [
    {
     "data": {
      "text/plain": [
       "139867781636464"
      ]
     },
     "execution_count": 79,
     "metadata": {},
     "output_type": "execute_result"
    }
   ],
   "source": [
    "id(dict1.values())"
   ]
  },
  {
   "cell_type": "code",
   "execution_count": 80,
   "id": "77fede1a-750d-46e3-9df4-6a1ae2cb18e9",
   "metadata": {},
   "outputs": [
    {
     "data": {
      "text/plain": [
       "139867781637232"
      ]
     },
     "execution_count": 80,
     "metadata": {},
     "output_type": "execute_result"
    }
   ],
   "source": [
    "id(dict1.items())"
   ]
  },
  {
   "cell_type": "code",
   "execution_count": null,
   "id": "98593cbe-2f6f-472b-8548-97b0c00951bb",
   "metadata": {},
   "outputs": [],
   "source": []
  }
 ],
 "metadata": {
  "kernelspec": {
   "display_name": "Python 3 (ipykernel)",
   "language": "python",
   "name": "python3"
  },
  "language_info": {
   "codemirror_mode": {
    "name": "ipython",
    "version": 3
   },
   "file_extension": ".py",
   "mimetype": "text/x-python",
   "name": "python",
   "nbconvert_exporter": "python",
   "pygments_lexer": "ipython3",
   "version": "3.10.8"
  }
 },
 "nbformat": 4,
 "nbformat_minor": 5
}
